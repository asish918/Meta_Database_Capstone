{
 "cells": [
  {
   "cell_type": "code",
   "execution_count": 1,
   "id": "1222478f-4e67-4c91-8072-71676a332d3c",
   "metadata": {},
   "outputs": [
    {
     "name": "stdout",
     "output_type": "stream",
     "text": [
      "[('bookings',), ('customerdetails',), ('menuitems',), ('orderdeliverystatuses',), ('orders',), ('staffinformation',)]\n"
     ]
    }
   ],
   "source": [
    "# Uncomment if you haven't installed mysql-connector already\n",
    "# !pip install mysql-connector-python\n",
    "\n",
    "import mysql.connector as connector\n",
    "\n",
    "# Establish the connection (Use your own username and password)\n",
    "connection = connector.connect(user=\"root\", password=\"asish1234\", database=\"littlelemondb\")\n",
    "\n",
    "# Create a cursor object\n",
    "cursor = connection.cursor()\n",
    "\n",
    "# Execute the SQL query\n",
    "show_tables_query = \"SHOW tables\"\n",
    "cursor.execute(show_tables_query)\n",
    "\n",
    "# Fetch the results\n",
    "results = cursor.fetchall()\n",
    "\n",
    "# Print the results\n",
    "print(results)\n",
    "\n",
    "# Close the cursor and connection\n",
    "cursor.close()\n",
    "connection.close()\n"
   ]
  },
  {
   "cell_type": "code",
   "execution_count": 5,
   "id": "5fbf3c84-5e3d-4210-a3eb-8f102490a0cf",
   "metadata": {},
   "outputs": [
    {
     "name": "stdout",
     "output_type": "stream",
     "text": [
      "('Name', 'Email', 'TotalCost')\n",
      "('John Doe', 'customer1@email.com', Decimal('171'))\n",
      "('Jane Doe', 'customer2@email.com', Decimal('174'))\n",
      "('Alice', 'customer3@email.com', Decimal('358'))\n",
      "('Bob', 'customer4@email.com', Decimal('265'))\n",
      "('David', 'customer6@email.com', Decimal('465'))\n",
      "('Emily', 'customer7@email.com', Decimal('65'))\n",
      "('Frank', 'customer8@email.com', Decimal('437'))\n",
      "('Grace', 'customer9@email.com', Decimal('484'))\n",
      "('Hannah', 'customer10@email.com', Decimal('111'))\n"
     ]
    }
   ],
   "source": [
    "import mysql.connector as connector\n",
    "\n",
    "# Establish the connection (Use your own username and password)\n",
    "connection = connector.connect(user=\"root\", password=\"asish1234\", database=\"littlelemondb\")\n",
    "\n",
    "# Create a cursor object\n",
    "cursor = connection.cursor()\n",
    "\n",
    "# SQL Query\n",
    "query = \"\"\"\n",
    "SELECT c.Name, c.Email, o.TotalCost\n",
    "FROM Orders AS o\n",
    "INNER JOIN CustomerDetails AS c ON o.CustomerID = c.CustomerID\n",
    "WHERE o.TotalCost > 60;\n",
    "\"\"\"\n",
    "\n",
    "# Execute the query\n",
    "cursor.execute(query)\n",
    "\n",
    "# Fetch the results\n",
    "results = cursor.fetchall()\n",
    "\n",
    "# Print the results\n",
    "print(cursor.column_names)\n",
    "for result in results:\n",
    "    print(result)\n",
    "\n",
    "# Close the cursor and connection\n",
    "cursor.close()\n",
    "connection.close()\n"
   ]
  }
 ],
 "metadata": {
  "kernelspec": {
   "display_name": "Python 3 (ipykernel)",
   "language": "python",
   "name": "python3"
  },
  "language_info": {
   "codemirror_mode": {
    "name": "ipython",
    "version": 3
   },
   "file_extension": ".py",
   "mimetype": "text/x-python",
   "name": "python",
   "nbconvert_exporter": "python",
   "pygments_lexer": "ipython3",
   "version": "3.11.4"
  }
 },
 "nbformat": 4,
 "nbformat_minor": 5
}
